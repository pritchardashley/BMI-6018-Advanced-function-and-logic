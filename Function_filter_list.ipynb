{
 "cells": [
  {
   "cell_type": "code",
   "execution_count": 3,
   "id": "30d28f44-c70c-4861-97a1-080340ddf90f",
   "metadata": {},
   "outputs": [],
   "source": [
    "list_provided = [1,2,3,4,5,6,7,8,9]\n",
    "threshold = 6"
   ]
  },
  {
   "cell_type": "code",
   "execution_count": 6,
   "id": "3c07d873-e336-4f8d-82d7-16c90d0d3fa0",
   "metadata": {},
   "outputs": [
    {
     "name": "stdout",
     "output_type": "stream",
     "text": [
      "[1, 2, 3, 4, 5, 6]\n"
     ]
    }
   ],
   "source": [
    "def filter_function(list_provided, thshold):\n",
    "    filtered_list = []\n",
    "    for item in list_provided:\n",
    "        if item <= threshold:\n",
    "            filtered_list.append(item)\n",
    "    return filtered_list\n",
    "\n",
    "answer = filter_function(list_provided, threshold)\n",
    "print(answer)"
   ]
  },
  {
   "cell_type": "code",
   "execution_count": null,
   "id": "4c77028d-d85b-4f86-b5a8-d13a920d095a",
   "metadata": {},
   "outputs": [],
   "source": []
  }
 ],
 "metadata": {
  "kernelspec": {
   "display_name": "Python 3 (ipykernel)",
   "language": "python",
   "name": "python3"
  },
  "language_info": {
   "codemirror_mode": {
    "name": "ipython",
    "version": 3
   },
   "file_extension": ".py",
   "mimetype": "text/x-python",
   "name": "python",
   "nbconvert_exporter": "python",
   "pygments_lexer": "ipython3",
   "version": "3.12.4"
  }
 },
 "nbformat": 4,
 "nbformat_minor": 5
}
