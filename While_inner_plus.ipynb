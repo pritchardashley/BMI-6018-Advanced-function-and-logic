{
 "cells": [
  {
   "cell_type": "code",
   "execution_count": 1,
   "id": "663c4fc3-f674-44e9-ae2e-b87f99b83035",
   "metadata": {},
   "outputs": [],
   "source": [
    "#while_inner_plus"
   ]
  },
  {
   "cell_type": "code",
   "execution_count": 3,
   "id": "01e62ae1-2c74-445c-8321-3fb9350b6b6e",
   "metadata": {},
   "outputs": [
    {
     "name": "stdout",
     "output_type": "stream",
     "text": [
      "[8, 9, 10]\n"
     ]
    }
   ],
   "source": [
    "number_list = [1, 2, 3, [4, 5, 6, [7, 8, 9]]]\n",
    "\n",
    "def innermost_plus_one(number_list):\n",
    "    current = number_list\n",
    "    while isinstance(current, list) and current:\n",
    "        if isinstance(current[-1], list):\n",
    "            current = current[-1]\n",
    "        else:\n",
    "            break\n",
    "    return [element + 1 for element in current]\n",
    "answer = innermost_plus_one(number_list)\n",
    "print(answer)"
   ]
  },
  {
   "cell_type": "code",
   "execution_count": null,
   "id": "6544ad23-a08b-48cc-8cca-fff80c7c62f4",
   "metadata": {},
   "outputs": [],
   "source": []
  }
 ],
 "metadata": {
  "kernelspec": {
   "display_name": "Python 3 (ipykernel)",
   "language": "python",
   "name": "python3"
  },
  "language_info": {
   "codemirror_mode": {
    "name": "ipython",
    "version": 3
   },
   "file_extension": ".py",
   "mimetype": "text/x-python",
   "name": "python",
   "nbconvert_exporter": "python",
   "pygments_lexer": "ipython3",
   "version": "3.12.4"
  }
 },
 "nbformat": 4,
 "nbformat_minor": 5
}
