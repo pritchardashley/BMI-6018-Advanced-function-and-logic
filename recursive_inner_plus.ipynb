{
 "cells": [
  {
   "cell_type": "code",
   "execution_count": 1,
   "id": "7447a48e-29f0-4d7c-84bb-ad79655521ac",
   "metadata": {},
   "outputs": [
    {
     "name": "stdout",
     "output_type": "stream",
     "text": [
      "[7, 8, 9]\n"
     ]
    }
   ],
   "source": [
    "second_list = [0, 1, 2, [3, 4, 5, [6, 7, 8]]]\n",
    "\n",
    "def recursive_inner(second_list):\n",
    "    if not isinstance(second_list, list):\n",
    "        return []\n",
    "    if isinstance(second_list[-1], list):\n",
    "        return recursive_inner(second_list[-1])\n",
    "    return [element + 1 for element in second_list]\n",
    "answer = recursive_inner(second_list)\n",
    "\n",
    "print(answer)"
   ]
  },
  {
   "cell_type": "code",
   "execution_count": null,
   "id": "98fd5cf3-f435-4062-9949-9f805780e93e",
   "metadata": {},
   "outputs": [],
   "source": []
  }
 ],
 "metadata": {
  "kernelspec": {
   "display_name": "Python 3 (ipykernel)",
   "language": "python",
   "name": "python3"
  },
  "language_info": {
   "codemirror_mode": {
    "name": "ipython",
    "version": 3
   },
   "file_extension": ".py",
   "mimetype": "text/x-python",
   "name": "python",
   "nbconvert_exporter": "python",
   "pygments_lexer": "ipython3",
   "version": "3.12.4"
  }
 },
 "nbformat": 4,
 "nbformat_minor": 5
}
